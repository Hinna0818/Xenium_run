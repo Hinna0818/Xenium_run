{
 "cells": [
  {
   "cell_type": "markdown",
   "id": "56c0ccb6",
   "metadata": {},
   "source": [
    "## 测试模型\n",
    "样本信息：https://www.10xgenomics.com/datasets/human-kidney-preview-data-xenium-human-multi-tissue-and-cancer-panel-1-standard\n",
    "选择乳头状肾细胞癌组织进行验证"
   ]
  },
  {
   "cell_type": "code",
   "execution_count": 1,
   "id": "5f36568d",
   "metadata": {},
   "outputs": [],
   "source": [
    "import numpy as np\n",
    "import torch\n",
    "from torch.utils.data import Dataset, DataLoader\n",
    "import h5py\n",
    "from sklearn.metrics import confusion_matrix\n",
    "import torch.nn as nn\n",
    "import torch.nn.functional as F\n",
    "from torchvision import transforms\n",
    "from torchvision import transforms\n",
    "from PIL import Image\n",
    "import random\n",
    "import seaborn as sns\n",
    "import matplotlib.pyplot as plt"
   ]
  },
  {
   "cell_type": "code",
   "execution_count": 35,
   "id": "9440e246",
   "metadata": {},
   "outputs": [],
   "source": [
    "def load_patches_from_hdf5(h5_path):\n",
    "    with h5py.File(h5_path, \"r\") as f:\n",
    "        images = f[\"images\"][:]        # shape: (N, H, W)\n",
    "        labels = f[\"labels\"][:]        # shape: (N,)\n",
    "        barcodes = f[\"barcodes\"][:].astype(str)  # shape: (N,)\n",
    "    \n",
    "    print(f\"读取完成: {len(images)} 个样本\")\n",
    "    return images, labels, barcodes"
   ]
  },
  {
   "cell_type": "code",
   "execution_count": 36,
   "id": "ae104010",
   "metadata": {},
   "outputs": [
    {
     "name": "stdout",
     "output_type": "stream",
     "text": [
      "读取完成: 55848 个样本\n"
     ]
    }
   ],
   "source": [
    "h5_path = \"./result/dapi_patches_20um_vali_55848.h5\"\n",
    "vali_patches, vali_labels, vali_barcodes = load_patches_from_hdf5(h5_path)"
   ]
  },
  {
   "cell_type": "code",
   "execution_count": 40,
   "id": "0eb8273d",
   "metadata": {},
   "outputs": [],
   "source": [
    "# 平衡数据\n",
    "def balance_data(patches, labels, barcodes):\n",
    "    idx_pos = np.where(labels == 1)[0]\n",
    "    idx_neg = np.where(labels == 0)[0]\n",
    "\n",
    "    # 随机下采样负类到正类数量\n",
    "    np.random.seed(42)\n",
    "    idx_neg_sampled = np.random.choice(idx_neg, size=len(idx_pos), replace=False)\n",
    "\n",
    "    idx_balanced = np.concatenate([idx_pos, idx_neg_sampled])\n",
    "    np.random.shuffle(idx_balanced)\n",
    "\n",
    "    return patches[idx_balanced], labels[idx_balanced], barcodes[idx_balanced]\n",
    "\n",
    "# Dataset类（支持transform + resize）\n",
    "class PatchDatasetWithTransform(Dataset):\n",
    "    def __init__(self, patches, labels, barcodes, transform=None):\n",
    "        self.patches = patches\n",
    "        self.labels = labels\n",
    "        self.barcodes = barcodes\n",
    "        self.transform = transform\n",
    "\n",
    "    def __len__(self):\n",
    "        return len(self.labels)\n",
    "\n",
    "    def __getitem__(self, idx):\n",
    "        image = self.patches[idx]  # numpy array\n",
    "        label = self.labels[idx]\n",
    "        barcode = self.barcodes[idx]\n",
    "\n",
    "        # 转为 PIL.Image 并 apply transform\n",
    "        image = Image.fromarray((image * 255).astype(np.uint8))  # 若为归一化图像（0~1）\n",
    "        if self.transform:\n",
    "            image = self.transform(image)\n",
    "\n",
    "        return image, label, barcode"
   ]
  },
  {
   "cell_type": "code",
   "execution_count": 41,
   "id": "2ecef8c1",
   "metadata": {},
   "outputs": [],
   "source": [
    "transform = transforms.Compose([\n",
    "    transforms.Resize((92, 92)),   # 改为模型所需输入尺寸\n",
    "    transforms.ToTensor()\n",
    "])\n",
    "\n",
    "# 进行负类下采样\n",
    "balanced_patches, balanced_labels, balanced_barcode = balance_data(vali_patches, vali_labels, vali_barcodes)\n",
    "\n",
    "# 创建 Dataset 和 DataLoader\n",
    "test_dataset = PatchDatasetWithTransform(balanced_patches, balanced_labels, balanced_barcode, transform=transform)\n",
    "test_loader = DataLoader(test_dataset, batch_size=32, shuffle=False)"
   ]
  },
  {
   "cell_type": "code",
   "execution_count": 43,
   "id": "fa4c6b45",
   "metadata": {},
   "outputs": [
    {
     "name": "stdout",
     "output_type": "stream",
     "text": [
      "Image shape: torch.Size([1, 92, 92])\n"
     ]
    }
   ],
   "source": [
    "img, _, _ = test_dataset[0]\n",
    "print(\"Image shape:\", img.shape)  # 应该是 [1, H, W]"
   ]
  },
  {
   "cell_type": "code",
   "execution_count": 44,
   "id": "ef91567f",
   "metadata": {},
   "outputs": [],
   "source": [
    "class SimpleCNN(nn.Module):\n",
    "    def __init__(self, input_shape=(1, 92, 92)):  # 改为你的图像尺寸\n",
    "        super(SimpleCNN, self).__init__()\n",
    "        self.conv1 = nn.Conv2d(1, 32, kernel_size=3, padding=1)\n",
    "        self.pool1 = nn.MaxPool2d(2)\n",
    "        self.conv2 = nn.Conv2d(32, 64, kernel_size=3, padding=1)\n",
    "        self.pool2 = nn.MaxPool2d(2)\n",
    "\n",
    "        # 动态获取flatten维度\n",
    "        with torch.no_grad():\n",
    "            dummy = torch.zeros(1, *input_shape)\n",
    "            x = self.pool1(F.relu(self.conv1(dummy)))\n",
    "            x = self.pool2(F.relu(self.conv2(x)))\n",
    "            flatten_dim = x.view(1, -1).shape[1]\n",
    "\n",
    "        self.flatten = nn.Flatten()\n",
    "        self.fc1 = nn.Linear(flatten_dim, 128)\n",
    "        self.fc2 = nn.Linear(128, 2)\n",
    "\n",
    "    def forward(self, x):\n",
    "        x = self.pool1(F.relu(self.conv1(x)))\n",
    "        x = self.pool2(F.relu(self.conv2(x)))\n",
    "        x = self.flatten(x)\n",
    "        x = F.relu(self.fc1(x))\n",
    "        x = self.fc2(x)\n",
    "        return x\n"
   ]
  },
  {
   "cell_type": "code",
   "execution_count": 45,
   "id": "586fae1e",
   "metadata": {},
   "outputs": [],
   "source": [
    "device = torch.device(\"cuda\" if torch.cuda.is_available() else \"cpu\")\n",
    "\n",
    "model = SimpleCNN().to(device)\n",
    "model.load_state_dict(torch.load(\"./models/best_model_epoch_3_20250828_110142.pt\"))\n",
    "model.eval()\n",
    "\n",
    "# 预测\n",
    "all_preds = []\n",
    "all_labels = []\n",
    "all_barcodes = []\n",
    "\n",
    "with torch.no_grad():\n",
    "    for images, labels, barcodes in test_loader:\n",
    "        images = images.to(device)\n",
    "        outputs = model(images)\n",
    "        preds = torch.argmax(outputs, dim=1).cpu().numpy()\n",
    "        all_preds.extend(preds)\n",
    "        all_labels.extend(labels.numpy())\n",
    "        all_barcodes.extend(barcodes)  # 直接是字符串 list"
   ]
  },
  {
   "cell_type": "code",
   "execution_count": 46,
   "id": "e195ef96",
   "metadata": {},
   "outputs": [
    {
     "name": "stdout",
     "output_type": "stream",
     "text": [
      "Confusion Matrix (in %):\n",
      "[[25.67 74.33]\n",
      " [11.74 88.26]]\n"
     ]
    },
    {
     "data": {
      "image/png": "[encoded data removed]",
      "text/plain": [
       "<Figure size 600x500 with 2 Axes>"
      ]
     },
     "metadata": {},
     "output_type": "display_data"
    }
   ],
   "source": [
    "# 计算混淆矩阵（行是True Label，列是Predicted Label）\n",
    "cm = confusion_matrix(all_labels, all_preds)\n",
    "cm_percent = cm.astype(\"float\") / cm.sum(axis=1)[:, np.newaxis] * 100\n",
    "\n",
    "print(\"Confusion Matrix (in %):\")\n",
    "print(np.round(cm_percent, 2))\n",
    "\n",
    "# 可视化\n",
    "plt.figure(figsize=(6, 5))\n",
    "sns.heatmap(cm_percent, annot=True, fmt=\".2f\", cmap=\"Blues\",\n",
    "            xticklabels=[\"Non-dividing\", \"Dividing\"],\n",
    "            yticklabels=[\"Non-dividing\", \"Dividing\"])\n",
    "plt.xlabel(\"Predicted Label\")\n",
    "plt.ylabel(\"True Label\")\n",
    "plt.title(\"Confusion Matrix (%)\")\n",
    "plt.tight_layout()\n",
    "plt.show()"
   ]
  },
  {
   "cell_type": "code",
   "execution_count": 47,
   "id": "66e3adf7",
   "metadata": {},
   "outputs": [
    {
     "name": "stdout",
     "output_type": "stream",
     "text": [
      "Accuracy:  0.5696\n",
      "Precision: 0.5428\n",
      "Recall:    0.8826\n",
      "F1-score:  0.6722\n"
     ]
    }
   ],
   "source": [
    "from sklearn.metrics import classification_report, confusion_matrix, accuracy_score, f1_score, roc_auc_score, precision_score, recall_score\n",
    "from sklearn.preprocessing import label_binarize\n",
    "import numpy as np\n",
    "\n",
    "# 转换为numpy数组\n",
    "y_true = np.array(all_labels)\n",
    "y_pred = np.array(all_preds)\n",
    "\n",
    "# === 基本指标 ===\n",
    "accuracy = accuracy_score(y_true, y_pred)\n",
    "precision = precision_score(y_true, y_pred)\n",
    "recall = recall_score(y_true, y_pred)\n",
    "f1 = f1_score(y_true, y_pred)\n",
    "\n",
    "print(f\"Accuracy:  {accuracy:.4f}\")\n",
    "print(f\"Precision: {precision:.4f}\")\n",
    "print(f\"Recall:    {recall:.4f}\")\n",
    "print(f\"F1-score:  {f1:.4f}\")"
   ]
  },
  {
   "cell_type": "code",
   "execution_count": 49,
   "id": "0aa8568e",
   "metadata": {},
   "outputs": [
    {
     "name": "stdout",
     "output_type": "stream",
     "text": [
      "1192 1192 1192\n",
      "AUC: 0.6309\n"
     ]
    }
   ],
   "source": [
    "from sklearn.metrics import roc_auc_score\n",
    "\n",
    "all_labels = []\n",
    "all_preds = []\n",
    "all_probs = []\n",
    "\n",
    "with torch.no_grad():\n",
    "    for images, labels, _ in test_loader:\n",
    "        images = images.to(device)\n",
    "        labels = labels.to(device)\n",
    "\n",
    "        outputs = model(images)  # logits\n",
    "        probs = torch.softmax(outputs, dim=1)[:, 1].cpu().numpy()  # 只取 positive 类\n",
    "        preds = torch.argmax(outputs, dim=1).cpu().numpy()\n",
    "\n",
    "        all_probs.extend(probs)\n",
    "        all_preds.extend(preds)\n",
    "        all_labels.extend(labels.cpu().numpy())\n",
    "\n",
    "# 保证长度一致\n",
    "print(len(all_labels), len(all_probs), len(all_preds))\n",
    "\n",
    "# 计算 AUC\n",
    "auc = roc_auc_score(all_labels, all_probs)\n",
    "print(f\"AUC: {auc:.4f}\")"
   ]
  },
  {
   "cell_type": "code",
   "execution_count": null,
   "id": "de6d323b",
   "metadata": {},
   "outputs": [
    {
     "data": {
      "application/vnd.microsoft.datawrangler.viewer.v0+json": {
       "columns": [
        {
         "name": "index",
         "rawType": "int64",
         "type": "integer"
        },
        {
         "name": "Barcode",
         "rawType": "object",
         "type": "string"
        },
        {
         "name": "TrueLabel",
         "rawType": "int8",
         "type": "integer"
        },
        {
         "name": "PredLabel",
         "rawType": "int64",
         "type": "integer"
        }
       ],
       "ref": "0aca70ac-41a7-4eb8-b5ff-efb680234e2d",
       "rows": [
        [
         "0",
         "edghmkbj-1",
         "1",
         "0"
        ],
        [
         "1",
         "ofeodmln-1",
         "1",
         "1"
        ],
        [
         "2",
         "fohankib-1",
         "1",
         "1"
        ],
        [
         "3",
         "echiaaml-1",
         "0",
         "1"
        ],
        [
         "4",
         "eagkpefk-1",
         "0",
         "0"
        ]
       ],
       "shape": {
        "columns": 3,
        "rows": 5
       }
      },
      "text/html": [
       "<div>\n",
       "<style scoped>\n",
       "    .dataframe tbody tr th:only-of-type {\n",
       "        vertical-align: middle;\n",
       "    }\n",
       "\n",
       "    .dataframe tbody tr th {\n",
       "        vertical-align: top;\n",
       "    }\n",
       "\n",
       "    .dataframe thead th {\n",
       "        text-align: right;\n",
       "    }\n",
       "</style>\n",
       "<table border=\"1\" class=\"dataframe\">\n",
       "  <thead>\n",
       "    <tr style=\"text-align: right;\">\n",
       "      <th></th>\n",
       "      <th>Barcode</th>\n",
       "      <th>TrueLabel</th>\n",
       "      <th>PredLabel</th>\n",
       "    </tr>\n",
       "  </thead>\n",
       "  <tbody>\n",
       "    <tr>\n",
       "      <th>0</th>\n",
       "      <td>edghmkbj-1</td>\n",
       "      <td>1</td>\n",
       "      <td>0</td>\n",
       "    </tr>\n",
       "    <tr>\n",
       "      <th>1</th>\n",
       "      <td>ofeodmln-1</td>\n",
       "      <td>1</td>\n",
       "      <td>1</td>\n",
       "    </tr>\n",
       "    <tr>\n",
       "      <th>2</th>\n",
       "      <td>fohankib-1</td>\n",
       "      <td>1</td>\n",
       "      <td>1</td>\n",
       "    </tr>\n",
       "    <tr>\n",
       "      <th>3</th>\n",
       "      <td>echiaaml-1</td>\n",
       "      <td>0</td>\n",
       "      <td>1</td>\n",
       "    </tr>\n",
       "    <tr>\n",
       "      <th>4</th>\n",
       "      <td>eagkpefk-1</td>\n",
       "      <td>0</td>\n",
       "      <td>0</td>\n",
       "    </tr>\n",
       "  </tbody>\n",
       "</table>\n",
       "</div>"
      ],
      "text/plain": [
       "      Barcode  TrueLabel  PredLabel\n",
       "0  edghmkbj-1          1          0\n",
       "1  ofeodmln-1          1          1\n",
       "2  fohankib-1          1          1\n",
       "3  echiaaml-1          0          1\n",
       "4  eagkpefk-1          0          0"
      ]
     },
     "execution_count": 50,
     "metadata": {},
     "output_type": "execute_result"
    }
   ],
   "source": [
    "import pandas as pd\n",
    "df_pred = pd.DataFrame({\n",
    "    'Barcode': all_barcodes,\n",
    "    'TrueLabel': all_labels,\n",
    "    'PredLabel': all_preds\n",
    "})\n",
    "df_pred.head()\n"
   ]
  }
 ],
 "metadata": {
  "kernelspec": {
   "display_name": "intern",
   "language": "python",
   "name": "python3"
  },
  "language_info": {
   "codemirror_mode": {
    "name": "ipython",
    "version": 3
   },
   "file_extension": ".py",
   "mimetype": "text/x-python",
   "name": "python",
   "nbconvert_exporter": "python",
   "pygments_lexer": "ipython3",
   "version": "3.10.18"
  }
 },
 "nbformat": 4,
 "nbformat_minor": 5
}
