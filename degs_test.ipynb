{
 "cells": [
  {
   "cell_type": "code",
   "execution_count": 123,
   "id": "f64a17b6",
   "metadata": {},
   "outputs": [],
   "source": [
    "import pandas as pd\n",
    "import matplotlib.pyplot as plt\n",
    "import seaborn as sns\n",
    "import scanpy as sc\n",
    "import h5py\n",
    "import scipy.sparse as sp\n",
    "import anndata\n",
    "from scipy.sparse import csc_matrix"
   ]
  },
  {
   "cell_type": "code",
   "execution_count": 124,
   "id": "dbcae8d0",
   "metadata": {},
   "outputs": [],
   "source": [
    "umap_dir = \"./degs/projection.csv\"\n",
    "cluster_dir = \"./degs/clusters.csv\"\n",
    "h5_path = \"./data/hKidney_cancer_section_outs/cell_feature_matrix.h5\"\n",
    "label_path = \"./result/dapi_patches_20um_vali_55848.h5\""
   ]
  },
  {
   "cell_type": "code",
   "execution_count": 125,
   "id": "c1d1c46c",
   "metadata": {},
   "outputs": [
    {
     "name": "stdout",
     "output_type": "stream",
     "text": [
      "<bound method NDFrame.head of          Barcode  TrueLabel  PredLabel\n",
      "0     edghmkbj-1          1          0\n",
      "1     ofeodmln-1          1          1\n",
      "2     fohankib-1          1          1\n",
      "3     echiaaml-1          0          1\n",
      "4     eagkpefk-1          0          0\n",
      "...          ...        ...        ...\n",
      "1187  gbhlmjld-1          0          0\n",
      "1188  gcpacgfj-1          1          0\n",
      "1189  gkodjmjc-1          1          1\n",
      "1190  mdmjmjjo-1          1          1\n",
      "1191  keppjdol-1          1          1\n",
      "\n",
      "[1192 rows x 3 columns]>\n"
     ]
    }
   ],
   "source": [
    "## 读取测试机中预测的label信息\n",
    "label_prediction = pd.read_csv(\"./result/df_pred.csv\")\n",
    "print(label_prediction.head)"
   ]
  },
  {
   "cell_type": "code",
   "execution_count": 126,
   "id": "b3f3884c",
   "metadata": {},
   "outputs": [],
   "source": [
    "## 读取umap坐标和cluster信息\n",
    "df_umap = pd.read_csv(umap_dir)\n",
    "df_cluster = pd.read_csv(cluster_dir)\n",
    "\n",
    "df_merged = pd.merge(df_umap, df_cluster, on=\"Barcode\", how = \"inner\")"
   ]
  },
  {
   "cell_type": "code",
   "execution_count": 127,
   "id": "9fd1976d",
   "metadata": {},
   "outputs": [
    {
     "name": "stdout",
     "output_type": "stream",
     "text": [
      "      Barcode    UMAP-1    UMAP-2  Cluster\n",
      "0  aaaanpll-1  0.830944 -2.130780       17\n",
      "1  aaabddcj-1  2.347253 -6.709230        9\n",
      "2  aaadbdpm-1 -0.023815 -4.861421        3\n",
      "3  aaaebncm-1  0.957426 -1.994512       17\n",
      "4  aaaegoge-1  1.423321 -6.029667        9\n"
     ]
    }
   ],
   "source": [
    "print(df_merged.head())"
   ]
  },
  {
   "cell_type": "code",
   "execution_count": 128,
   "id": "924ab827",
   "metadata": {},
   "outputs": [
    {
     "name": "stdout",
     "output_type": "stream",
     "text": [
      "0    edghmkbj-1\n",
      "1    ofeodmln-1\n",
      "2    fohankib-1\n",
      "3    echiaaml-1\n",
      "4    eagkpefk-1\n",
      "Name: Barcode, dtype: object\n"
     ]
    }
   ],
   "source": [
    "print(label_prediction[\"Barcode\"].head())"
   ]
  },
  {
   "cell_type": "code",
   "execution_count": 129,
   "id": "2c1de69e",
   "metadata": {},
   "outputs": [
    {
     "name": "stdout",
     "output_type": "stream",
     "text": [
      "0    aaaanpll-1\n",
      "1    aaabddcj-1\n",
      "2    aaadbdpm-1\n",
      "3    aaaebncm-1\n",
      "4    aaaegoge-1\n",
      "Name: Barcode, dtype: object\n"
     ]
    }
   ],
   "source": [
    "print(df_merged[\"Barcode\"].head())"
   ]
  },
  {
   "cell_type": "code",
   "execution_count": 130,
   "id": "78f983cf",
   "metadata": {},
   "outputs": [
    {
     "name": "stdout",
     "output_type": "stream",
     "text": [
      "      Barcode  TrueLabel  PredLabel    UMAP-1    UMAP-2  Cluster\n",
      "0  edghmkbj-1          1          0 -2.100206 -1.393516        3\n",
      "1  ofeodmln-1          1          1 -5.288403  3.568874        1\n",
      "2  fohankib-1          1          1 -1.167949  2.913191        2\n",
      "3  echiaaml-1          0          1 -3.909014  3.843636        1\n",
      "4  eagkpefk-1          0          0 -3.504418 -2.385618        3\n"
     ]
    }
   ],
   "source": [
    "df_merged_final = pd.merge(label_prediction, df_merged, on=\"Barcode\", how=\"inner\")\n",
    "print(df_merged_final.head())"
   ]
  },
  {
   "cell_type": "code",
   "execution_count": null,
   "id": "04cc22e7",
   "metadata": {},
   "outputs": [],
   "source": [
    "plt.figure(figsize=(8, 6))\n",
    "sns.scatterplot(\n",
    "    data=df_merged,\n",
    "    x=\"UMAP-1\", y=\"UMAP-2\",\n",
    "    hue=\"Cluster\",\n",
    "    palette=\"tab10\",  # 可选: \"Set2\", \"tab20\", etc.\n",
    "    s=2,  # 点的大小\n",
    "    linewidth=0,\n",
    "    alpha=0.8\n",
    ")\n",
    "plt.title(\"UMAP\")\n",
    "plt.legend(title=\"Cluster\", bbox_to_anchor=(1.05, 1), loc='upper left')\n",
    "plt.tight_layout()\n",
    "plt.show()"
   ]
  },
  {
   "cell_type": "code",
   "execution_count": 131,
   "id": "245f93e4",
   "metadata": {},
   "outputs": [],
   "source": [
    "## 读取基因表达谱\n",
    "f = h5py.File(h5_path, \"r\")\n",
    "data = f['matrix/data'][:]           # 非零值\n",
    "indices = f['matrix/indices'][:]     # 列索引\n",
    "indptr = f['matrix/indptr'][:]       # 行指针\n",
    "shape = f['matrix/shape'][:]         # 原始矩阵维度\n",
    "\n",
    "X = csc_matrix((data, indices, indptr), shape=tuple(shape))"
   ]
  },
  {
   "cell_type": "code",
   "execution_count": 132,
   "id": "96458325",
   "metadata": {},
   "outputs": [],
   "source": [
    "barcodes = [x.decode() for x in f[\"matrix/barcodes\"][:]]\n",
    "genes = [g.decode() for g in f['matrix/features/name'][:]]\n",
    "\n",
    "# 构建 AnnData\n",
    "adata = anndata.AnnData(\n",
    "    X=X.T,\n",
    "    obs=pd.DataFrame(index=barcodes),\n",
    "    var=pd.DataFrame(index=genes)\n",
    ")"
   ]
  },
  {
   "cell_type": "code",
   "execution_count": 133,
   "id": "d77f78ec",
   "metadata": {},
   "outputs": [
    {
     "name": "stdout",
     "output_type": "stream",
     "text": [
      "(56510, 541)\n",
      "Index(['aaaanpll-1', 'aaabddcj-1', 'aaadbdpm-1', 'aaaebncm-1', 'aaaegoge-1'], dtype='object')\n",
      "Index(['ABCC11', 'ACE2', 'ACKR1', 'ACTA2', 'ACTG2'], dtype='object')\n"
     ]
    }
   ],
   "source": [
    "print(adata.shape)           # 应该是 (n_cells, n_genes)\n",
    "print(adata.obs_names[:5])   # 一些 cell IDs\n",
    "print(adata.var_names[:5])   # 一些 gene names"
   ]
  },
  {
   "cell_type": "code",
   "execution_count": 134,
   "id": "00fc1dfb",
   "metadata": {},
   "outputs": [],
   "source": [
    "adata.raw = adata"
   ]
  },
  {
   "cell_type": "code",
   "execution_count": 135,
   "id": "b76c65ab",
   "metadata": {},
   "outputs": [
    {
     "name": "stderr",
     "output_type": "stream",
     "text": [
      "c:\\Users\\admin\\miniconda3\\envs\\intern\\lib\\site-packages\\legacy_api_wrap\\__init__.py:82: UserWarning: Some cells have zero counts\n",
      "  return fn(*args_all, **kw)\n"
     ]
    }
   ],
   "source": [
    "sc.pp.normalize_total(adata, target_sum=1e4)  # CPM-like\n",
    "sc.pp.log1p(adata)  # log(count + 1)"
   ]
  },
  {
   "cell_type": "code",
   "execution_count": 141,
   "id": "e0b434cc",
   "metadata": {},
   "outputs": [],
   "source": [
    "# 1. 确保 Barcode 是字符串类型（如果不是的话）\n",
    "df_merged_final[\"Barcode\"] = df_merged_final[\"Barcode\"].astype(str)\n",
    "adata.obs.index = adata.obs.index.astype(str)\n",
    "\n",
    "# 2. 设定 df_merged_final 的 index 为 Barcode\n",
    "df_meta = df_merged_final.set_index(\"Barcode\")\n",
    "\n",
    "# 3. 从 adata 中筛选出这些细胞\n",
    "adata_sub = adata[df_meta.index].copy()\n",
    "\n",
    "# 4. 替换 metadata\n",
    "adata_sub.obs = df_meta\n",
    "\n",
    "# ✅ 结果：adata_sub 是你需要的只包含预测过细胞的 AnnData，且 metadata 来自 df_merged_final\n"
   ]
  },
  {
   "cell_type": "code",
   "execution_count": 142,
   "id": "0e1b2cb9",
   "metadata": {},
   "outputs": [
    {
     "name": "stdout",
     "output_type": "stream",
     "text": [
      "            TrueLabel  PredLabel    UMAP-1    UMAP-2  Cluster\n",
      "Barcode                                                      \n",
      "edghmkbj-1          1          0 -2.100206 -1.393516        3\n",
      "ofeodmln-1          1          1 -5.288403  3.568874        1\n",
      "fohankib-1          1          1 -1.167949  2.913191        2\n",
      "echiaaml-1          0          1 -3.909014  3.843636        1\n",
      "eagkpefk-1          0          0 -3.504418 -2.385618        3\n"
     ]
    }
   ],
   "source": [
    "print(adata_sub.obs.head())"
   ]
  },
  {
   "cell_type": "code",
   "execution_count": null,
   "id": "f3da58df",
   "metadata": {},
   "outputs": [
    {
     "data": {
      "application/vnd.microsoft.datawrangler.viewer.v0+json": {
       "columns": [
        {
         "name": "index",
         "rawType": "int64",
         "type": "integer"
        },
        {
         "name": "Gene",
         "rawType": "object",
         "type": "string"
        },
        {
         "name": "LogFC",
         "rawType": "float64",
         "type": "float"
        },
        {
         "name": "PValue",
         "rawType": "float64",
         "type": "float"
        },
        {
         "name": "FDR",
         "rawType": "float64",
         "type": "float"
        }
       ],
       "ref": "36bb5780-ecab-4e8b-b9ba-7f02c2193b3d",
       "rows": [
        [
         "203",
         "IL7R",
         "3.960710737888001",
         "6.574554215439408e-43",
         null
        ],
        [
         "84",
         "CD8A",
         "-3.6757941001111427",
         "2.893844456691459e-42",
         null
        ],
        [
         "57",
         "CCL5",
         "-3.474216486194914",
         "4.899000038338171e-38",
         null
        ],
        [
         "186",
         "GZMK",
         "-3.522968915918681",
         "1.773308386725659e-36",
         null
        ],
        [
         "261",
         "NKG7",
         "-3.025696162417259",
         "3.017607748518811e-28",
         null
        ],
        [
         "184",
         "GZMA",
         "-2.948767974588759",
         "4.145043283248067e-27",
         null
        ],
        [
         "188",
         "HAVCR2",
         "-2.3750970520179138",
         "9.311201257124014e-20",
         null
        ],
        [
         "309",
         "SELL",
         "1.8459908647865166",
         "3.192794545631846e-16",
         null
        ],
        [
         "60",
         "CCR7",
         "1.70795927226763",
         "1.1189942157610856e-14",
         null
        ],
        [
         "217",
         "LAG3",
         "-1.240552745816914",
         "2.0216815358516886e-09",
         null
        ]
       ],
       "shape": {
        "columns": 4,
        "rows": 10
       }
      },
      "text/html": [
       "<div>\n",
       "<style scoped>\n",
       "    .dataframe tbody tr th:only-of-type {\n",
       "        vertical-align: middle;\n",
       "    }\n",
       "\n",
       "    .dataframe tbody tr th {\n",
       "        vertical-align: top;\n",
       "    }\n",
       "\n",
       "    .dataframe thead th {\n",
       "        text-align: right;\n",
       "    }\n",
       "</style>\n",
       "<table border=\"1\" class=\"dataframe\">\n",
       "  <thead>\n",
       "    <tr style=\"text-align: right;\">\n",
       "      <th></th>\n",
       "      <th>Gene</th>\n",
       "      <th>LogFC</th>\n",
       "      <th>PValue</th>\n",
       "      <th>FDR</th>\n",
       "    </tr>\n",
       "  </thead>\n",
       "  <tbody>\n",
       "    <tr>\n",
       "      <th>203</th>\n",
       "      <td>IL7R</td>\n",
       "      <td>3.960711</td>\n",
       "      <td>6.574554e-43</td>\n",
       "      <td>NaN</td>\n",
       "    </tr>\n",
       "    <tr>\n",
       "      <th>84</th>\n",
       "      <td>CD8A</td>\n",
       "      <td>-3.675794</td>\n",
       "      <td>2.893844e-42</td>\n",
       "      <td>NaN</td>\n",
       "    </tr>\n",
       "    <tr>\n",
       "      <th>57</th>\n",
       "      <td>CCL5</td>\n",
       "      <td>-3.474216</td>\n",
       "      <td>4.899000e-38</td>\n",
       "      <td>NaN</td>\n",
       "    </tr>\n",
       "    <tr>\n",
       "      <th>186</th>\n",
       "      <td>GZMK</td>\n",
       "      <td>-3.522969</td>\n",
       "      <td>1.773308e-36</td>\n",
       "      <td>NaN</td>\n",
       "    </tr>\n",
       "    <tr>\n",
       "      <th>261</th>\n",
       "      <td>NKG7</td>\n",
       "      <td>-3.025696</td>\n",
       "      <td>3.017608e-28</td>\n",
       "      <td>NaN</td>\n",
       "    </tr>\n",
       "    <tr>\n",
       "      <th>184</th>\n",
       "      <td>GZMA</td>\n",
       "      <td>-2.948768</td>\n",
       "      <td>4.145043e-27</td>\n",
       "      <td>NaN</td>\n",
       "    </tr>\n",
       "    <tr>\n",
       "      <th>188</th>\n",
       "      <td>HAVCR2</td>\n",
       "      <td>-2.375097</td>\n",
       "      <td>9.311201e-20</td>\n",
       "      <td>NaN</td>\n",
       "    </tr>\n",
       "    <tr>\n",
       "      <th>309</th>\n",
       "      <td>SELL</td>\n",
       "      <td>1.845991</td>\n",
       "      <td>3.192795e-16</td>\n",
       "      <td>NaN</td>\n",
       "    </tr>\n",
       "    <tr>\n",
       "      <th>60</th>\n",
       "      <td>CCR7</td>\n",
       "      <td>1.707959</td>\n",
       "      <td>1.118994e-14</td>\n",
       "      <td>NaN</td>\n",
       "    </tr>\n",
       "    <tr>\n",
       "      <th>217</th>\n",
       "      <td>LAG3</td>\n",
       "      <td>-1.240553</td>\n",
       "      <td>2.021682e-09</td>\n",
       "      <td>NaN</td>\n",
       "    </tr>\n",
       "  </tbody>\n",
       "</table>\n",
       "</div>"
      ],
      "text/plain": [
       "       Gene     LogFC        PValue  FDR\n",
       "203    IL7R  3.960711  6.574554e-43  NaN\n",
       "84     CD8A -3.675794  2.893844e-42  NaN\n",
       "57     CCL5 -3.474216  4.899000e-38  NaN\n",
       "186    GZMK -3.522969  1.773308e-36  NaN\n",
       "261    NKG7 -3.025696  3.017608e-28  NaN\n",
       "184    GZMA -2.948768  4.145043e-27  NaN\n",
       "188  HAVCR2 -2.375097  9.311201e-20  NaN\n",
       "309    SELL  1.845991  3.192795e-16  NaN\n",
       "60     CCR7  1.707959  1.118994e-14  NaN\n",
       "217    LAG3 -1.240553  2.021682e-09  NaN"
      ]
     },
     "execution_count": 145,
     "metadata": {},
     "output_type": "execute_result"
    }
   ],
   "source": [
    "from statsmodels.formula.api import ols\n",
    "from scipy.stats import ttest_ind\n",
    "import numpy as np\n",
    "import statsmodels.api as sm\n",
    "\n",
    "# 提取表达矩阵 (log-normalized)\n",
    "expr = adata_sub.to_df()  # cells × genes\n",
    "meta = adata_sub.obs\n",
    "\n",
    "# 设定比较组\n",
    "group1 = (meta['Cluster'] == 1)\n",
    "group2 = (meta['Cluster'] == 2)\n",
    "\n",
    "results = []\n",
    "\n",
    "for gene in expr.columns:\n",
    "    df = pd.DataFrame({\n",
    "        'expr': expr.loc[group1 | group2, gene],\n",
    "        'cluster': meta.loc[group1 | group2, 'Cluster'],\n",
    "        'dividing': meta.loc[group1 | group2, 'PredLabel']\n",
    "    })\n",
    "\n",
    "    # 将 cluster 映射为数值变量\n",
    "    df['cluster'] = df['cluster'].astype(\"category\")\n",
    "    df['dividing'] = df['dividing'].astype(\"category\")\n",
    "\n",
    "    # 回归模型：表达量 ~ cluster + dividing\n",
    "    model = ols(\"expr ~ C(cluster) + C(dividing)\", data=df).fit()\n",
    "    pval = model.pvalues.get(\"C(cluster)[T.2]\", np.nan)  # Cluster2 vs Cluster1\n",
    "    coef = model.params.get(\"C(cluster)[T.2]\", np.nan)\n",
    "\n",
    "    results.append((gene, coef, pval))\n",
    "\n",
    "# 构建结果表格\n",
    "res_df = pd.DataFrame(results, columns=[\"Gene\", \"LogFC\", \"PValue\"])\n",
    "res_df[\"FDR\"] = sm.stats.multipletests(res_df[\"PValue\"], method='fdr_bh')[1]\n",
    "res_df = res_df.sort_values(\"PValue\")\n",
    "res_df.head(10)\n"
   ]
  }
 ],
 "metadata": {
  "kernelspec": {
   "display_name": "intern",
   "language": "python",
   "name": "python3"
  },
  "language_info": {
   "codemirror_mode": {
    "name": "ipython",
    "version": 3
   },
   "file_extension": ".py",
   "mimetype": "text/x-python",
   "name": "python",
   "nbconvert_exporter": "python",
   "pygments_lexer": "ipython3",
   "version": "3.10.18"
  }
 },
 "nbformat": 4,
 "nbformat_minor": 5
}
